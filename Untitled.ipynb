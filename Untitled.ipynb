{
 "cells": [
  {
   "cell_type": "code",
   "execution_count": 1,
   "metadata": {
    "collapsed": true
   },
   "outputs": [],
   "source": [
    "import time\n",
    "import datetime\n",
    "import random\n",
    "from selenium import webdriver\n",
    "from selenium.webdriver.common.by import By\n",
    "from selenium.webdriver.support.ui import WebDriverWait\n",
    "from selenium.common.exceptions import NoSuchElementException\n",
    "from selenium.webdriver.support import expected_conditions as EC\n",
    "from selenium.webdriver.common.keys import Keys\n",
    "from selenium.webdriver.support.ui import Select\n",
    "from selenium.webdriver.common.action_chains import ActionChains\n",
    "import requests, re, json ,pprint\n",
    "from bs4 import BeautifulSoup\n",
    "import pandas as pd\n",
    "from flask import Flask,render_template,request,make_response\n",
    "# from .InstaForm import InstaForm\n",
    "import re\n",
    "import timeit\n",
    "import pickle\n",
    "import numpy as np"
   ]
  },
  {
   "cell_type": "code",
   "execution_count": 17,
   "metadata": {},
   "outputs": [],
   "source": [
    "with open('adopt_love_1.pkl', 'wb') as f:\n",
    "    pickle.dump(new_adopt_list, f)"
   ]
  },
  {
   "cell_type": "code",
   "execution_count": null,
   "metadata": {
    "collapsed": true
   },
   "outputs": [],
   "source": []
  },
  {
   "cell_type": "code",
   "execution_count": null,
   "metadata": {},
   "outputs": [],
   "source": [
    "del ml\n"
   ]
  },
  {
   "cell_type": "code",
   "execution_count": 2,
   "metadata": {
    "collapsed": true
   },
   "outputs": [],
   "source": [
    "with open('parrot.pkl', 'rb') as f:\n",
    "    mynewlist = pickle.load(f)"
   ]
  },
  {
   "cell_type": "code",
   "execution_count": null,
   "metadata": {},
   "outputs": [],
   "source": [
    "print(len(mynewlist))\n",
    "adopt_list = set(mynewlist)\n",
    "print(mynewlist)"
   ]
  },
  {
   "cell_type": "code",
   "execution_count": null,
   "metadata": {},
   "outputs": [],
   "source": [
    "for i in set(mynewlist):\n",
    "    print(i)\n"
   ]
  },
  {
   "cell_type": "code",
   "execution_count": null,
   "metadata": {},
   "outputs": [],
   "source": [
    "len(mynewlist)-len(set(mynewlist))"
   ]
  },
  {
   "cell_type": "code",
   "execution_count": null,
   "metadata": {
    "collapsed": true
   },
   "outputs": [],
   "source": [
    "mynewlist = list(mynewlist)"
   ]
  },
  {
   "cell_type": "code",
   "execution_count": null,
   "metadata": {
    "collapsed": true
   },
   "outputs": [],
   "source": [
    "series_list = pd.Series(mynewlist)"
   ]
  },
  {
   "cell_type": "code",
   "execution_count": null,
   "metadata": {},
   "outputs": [],
   "source": [
    "series_list.apply(lambda x: re.sub('\\?tagged=.*','',x))"
   ]
  },
  {
   "cell_type": "code",
   "execution_count": null,
   "metadata": {
    "collapsed": true
   },
   "outputs": [],
   "source": [
    "data = pd.read_csv('0.csv')"
   ]
  },
  {
   "cell_type": "code",
   "execution_count": null,
   "metadata": {},
   "outputs": [],
   "source": [
    "data"
   ]
  },
  {
   "cell_type": "code",
   "execution_count": null,
   "metadata": {},
   "outputs": [],
   "source": [
    "for i in data['comments'].values:\n",
    "    print(i)"
   ]
  },
  {
   "cell_type": "code",
   "execution_count": null,
   "metadata": {},
   "outputs": [],
   "source": [
    "print(data['comments'][0][0])"
   ]
  },
  {
   "cell_type": "code",
   "execution_count": null,
   "metadata": {
    "collapsed": true
   },
   "outputs": [],
   "source": []
  },
  {
   "cell_type": "code",
   "execution_count": null,
   "metadata": {
    "collapsed": true
   },
   "outputs": [],
   "source": []
  },
  {
   "cell_type": "code",
   "execution_count": null,
   "metadata": {
    "collapsed": true
   },
   "outputs": [],
   "source": []
  },
  {
   "cell_type": "code",
   "execution_count": null,
   "metadata": {
    "collapsed": true
   },
   "outputs": [],
   "source": []
  },
  {
   "cell_type": "code",
   "execution_count": 12,
   "metadata": {
    "collapsed": true
   },
   "outputs": [],
   "source": [
    "with open('adopt_love_1.pkl', 'rb') as f:\n",
    "    new_new = pickle.load(f)\n",
    "    \n",
    "new_adopt_list = []\n",
    "for i in new_new:\n",
    "    if i not in new_adopt_list:\n",
    "        new_adopt_list.append(i)   \n",
    "\n",
    "\n"
   ]
  },
  {
   "cell_type": "code",
   "execution_count": 4,
   "metadata": {
    "collapsed": true
   },
   "outputs": [],
   "source": [
    "driver = webdriver.Chrome('/usr/local/bin/chromedriver')\n",
    "driver.implicitly_wait(5)"
   ]
  },
  {
   "cell_type": "code",
   "execution_count": 24,
   "metadata": {},
   "outputs": [
    {
     "name": "stdout",
     "output_type": "stream",
     "text": [
      "batch cut 50\n",
      "batch cut 51\n",
      "batch cut 52\n",
      "batch cut 53\n",
      "batch cut 54\n",
      "batch cut 55\n",
      "batch cut 56\n",
      "batch cut 57\n",
      "batch cut 58\n",
      "batch cut 59\n",
      "batch cut 60\n",
      "batch cut 61\n",
      "batch cut 62\n",
      "batch cut 63\n",
      "batch cut 64\n",
      "batch cut 65\n",
      "batch cut 66\n",
      "batch cut 67\n",
      "batch cut 68\n",
      "batch cut 69\n",
      "1332.043199230975\n"
     ]
    }
   ],
   "source": [
    "start = timeit.default_timer()\n",
    "count = 1\n",
    "# df = pd.DataFrame(columns=['url','comments','post_time','access_time','num_likes','is_vid','view_count','poster'])\n",
    "df = pd.DataFrame()\n",
    "\n",
    "# media = ['https://www.instagram.com/p/BfAeWPMn1AV/','https://www.instagram.com/p/Be8UzDrHHf-/','https://www.instagram.com/p/Be-8TL4Bo8q/',\n",
    "#          'https://www.instagram.com/p/BeInCULnupR/','https://www.instagram.com/p/Be3ZojojBwL/']\n",
    "# listy = ['https://www.instagram.com/p/BfG7h_jnsTf/?tagged=adoptlove']\n",
    "\n",
    "batch_num = 50\n",
    "\n",
    "\n",
    "for post in new_adopt_list[500:700]:\n",
    "    posts = {}\n",
    "    commenters = []\n",
    "    comments = []\n",
    "    is_vid = False\n",
    "    num_likes = 0\n",
    "    view_count = 0\n",
    "    \n",
    "    driver.get(post)\n",
    "    \n",
    "    poster = driver.find_element_by_xpath('//*[@id=\"react-root\"]/section/main/div/div/article/header/div/div/div/a').get_attribute('title')\n",
    "    post_time = driver.find_element_by_xpath('//div/div/a/time').get_attribute('datetime')\n",
    "\n",
    "    try:\n",
    "        if 'views' in driver.find_element_by_xpath(\"//div/section/div/span\").get_attribute('innerHTML'):\n",
    "            is_vid = True\n",
    "            view_count = driver.find_element_by_xpath(\"//div/section/div/span/span\").get_attribute('innerHTML')\n",
    "        else:\n",
    "            num_likes = driver.find_element_by_xpath(\"//div/section/div/span/span\").get_attribute('innerHTML')\n",
    "    except:\n",
    "        x = driver.find_elements_by_xpath('//*[@id=\"react-root\"]/section/main/div/div/article/div/section/div/a')\n",
    "        low_user = 0\n",
    "        for i in x:\n",
    "            low_user +=1\n",
    "        num_likes = low_user\n",
    "        \n",
    "\n",
    "     \n",
    "    while True:         \n",
    "        try:\n",
    "            load_more_comments = driver.find_element_by_xpath(\"//*[@id='react-root']/section/main/div/div/article/div/div/ul/li/a[text()[contains(.,' comments')]]\")\n",
    "    #             driver.execute_script(\"document.querySelector('react-root section main div div article div div ul li a[role=button]').scrollIntoView(true);\")\n",
    "            load_more_comments.click()\n",
    "            time.sleep(random.randint(1,3))\n",
    "        except:\n",
    "            break\n",
    "\n",
    "    for comment in driver.find_elements_by_xpath(\"//div/div/ul/li/span\"):\n",
    "    # print(comment.get_attribute('text'))\n",
    "        comments.append(comment.text)\n",
    "\n",
    "\n",
    "    for commenter in driver.find_elements_by_xpath('//div/div/ul/li/a'):\n",
    "        commenters.append(commenter.text)\n",
    "    \n",
    "    if is_vid:\n",
    "        try:\n",
    "            view_likes = driver.find_element_by_xpath('//*[@id=\"react-root\"]/section/main/div/div/article/div/section/div/span') \n",
    "            view_likes.click()                        \n",
    "            num_likes = driver.find_element_by_xpath('//*[@id=\"react-root\"]/section/main/div/div/article/div/section/div/div/div/span')\n",
    "\n",
    "            num_likes = num_likes.text\n",
    "        except NoSuchElementException:\n",
    "            pass\n",
    "            print('no such')\n",
    "    \n",
    "#     print(datetime.datetime.now())\n",
    "#     print(post_time)        \n",
    "#     print(view_count)\n",
    "#     print(num_likes)\n",
    "#     print(is_vid)\n",
    "#     print(comments)\n",
    "#     print(commenters)\n",
    "    \n",
    "    posts['url'] = post\n",
    "    posts['comments'] = comments\n",
    "#     posts['commenters'] = commenters\n",
    "    posts['post_time'] = post_time\n",
    "    posts['access_time'] = datetime.datetime.now()\n",
    "    posts['num_likes'] = num_likes\n",
    "    posts['is_vid'] = is_vid\n",
    "    posts['view_count'] = view_count\n",
    "    posts['poster'] = poster\n",
    "    \n",
    "    \n",
    "    temp = pd.DataFrame.from_dict(posts)\n",
    "    \n",
    "    df = df.append(temp)\n",
    "    if count % 10 == 0:\n",
    "        print('batch cut {}'.format(batch_num))\n",
    "        df.to_csv('batch_{}.csv'.format(batch_num))\n",
    "        batch_num += 1\n",
    "        df = pd.DataFrame()\n",
    "    count += 1\n",
    "\n",
    "df.to_csv('final.csv')\n",
    "stop = timeit.default_timer()\n",
    "\n",
    "print(stop - start)"
   ]
  },
  {
   "cell_type": "code",
   "execution_count": null,
   "metadata": {},
   "outputs": [],
   "source": [
    "# listy = ['https://www.instagram.com/p/Be9JmG-nzea/']\n",
    "# commenters = []\n",
    "# comments = []\n",
    "# for i in new_adopt_list[:100]:\n",
    "#     driver.get(i)\n",
    "#     while True:\n",
    "#         try:\n",
    "#             load_more_comments = driver.find_element_by_xpath(\"//*[@id='react-root']/section/main/div/div/article/div/div/ul/li/a[text()[contains(.,' comments')]]\")\n",
    "#     #             driver.execute_script(\"document.querySelector('react-root section main div div article div div ul li a[role=button]').scrollIntoView(true);\")\n",
    "#             load_more_comments.click()\n",
    "#             time.sleep(random.randint(1,5))\n",
    "#         except:\n",
    "#             break\n",
    "\n",
    "\n",
    "\n",
    "#     for comment in driver.find_elements_by_xpath(\"//div/div/ul/li/span\"):\n",
    "#     # print(comment.get_attribute('text'))\n",
    "#         comments.append(comment.text)\n",
    "\n",
    "\n",
    "#     for commenter in driver.find_elements_by_xpath('//div/div/ul/li/a'):\n",
    "#         commenters.append(commenter.text)\n",
    "            "
   ]
  },
  {
   "cell_type": "code",
   "execution_count": null,
   "metadata": {},
   "outputs": [],
   "source": [
    "print(comments)\n",
    "print(commenters)"
   ]
  },
  {
   "cell_type": "code",
   "execution_count": null,
   "metadata": {
    "collapsed": true
   },
   "outputs": [],
   "source": [
    "x = zip(comments,commenters)"
   ]
  },
  {
   "cell_type": "code",
   "execution_count": null,
   "metadata": {},
   "outputs": [],
   "source": [
    "print(len(comments),print(len(commenters)))"
   ]
  },
  {
   "cell_type": "code",
   "execution_count": null,
   "metadata": {},
   "outputs": [],
   "source": [
    "for a,b in x:\n",
    "    print(b,\":\",a)"
   ]
  },
  {
   "cell_type": "code",
   "execution_count": null,
   "metadata": {},
   "outputs": [],
   "source": [
    "driver.get('https://www.instagram.com/p/Be3ZojojBwL/')\n",
    "poster = driver.find_element_by_xpath('//*[@id=\"react-root\"]/section/main/div/div/article/header/div/div/div/a').get_attribute('title')\n",
    "print(xxx)"
   ]
  },
  {
   "cell_type": "code",
   "execution_count": null,
   "metadata": {},
   "outputs": [],
   "source": []
  },
  {
   "cell_type": "code",
   "execution_count": null,
   "metadata": {},
   "outputs": [],
   "source": [
    "new_new = list(set(new_new))"
   ]
  },
  {
   "cell_type": "code",
   "execution_count": null,
   "metadata": {
    "collapsed": true
   },
   "outputs": [],
   "source": []
  },
  {
   "cell_type": "code",
   "execution_count": null,
   "metadata": {
    "collapsed": true
   },
   "outputs": [],
   "source": [
    "    xxx = pd.DataFrame(columns=['url','comments','post_time','access_time','num_likes','is_vid','view_count','poster'])\n",
    "\n"
   ]
  },
  {
   "cell_type": "code",
   "execution_count": null,
   "metadata": {},
   "outputs": [],
   "source": [
    "len(new_adopt_list)"
   ]
  },
  {
   "cell_type": "code",
   "execution_count": null,
   "metadata": {},
   "outputs": [],
   "source": [
    "xxx = pd.DataFrame()"
   ]
  },
  {
   "cell_type": "code",
   "execution_count": null,
   "metadata": {},
   "outputs": [],
   "source": [
    "xxx = df.append(temp)"
   ]
  },
  {
   "cell_type": "code",
   "execution_count": null,
   "metadata": {},
   "outputs": [],
   "source": [
    "xxx"
   ]
  },
  {
   "cell_type": "code",
   "execution_count": null,
   "metadata": {
    "collapsed": true
   },
   "outputs": [],
   "source": [
    "look = pd.read_csv('batch_0.csv')"
   ]
  },
  {
   "cell_type": "code",
   "execution_count": null,
   "metadata": {},
   "outputs": [],
   "source": [
    "look"
   ]
  },
  {
   "cell_type": "code",
   "execution_count": 19,
   "metadata": {
    "collapsed": true
   },
   "outputs": [],
   "source": [
    "look = pd.read_csv('batch_8.csv')"
   ]
  },
  {
   "cell_type": "code",
   "execution_count": 20,
   "metadata": {},
   "outputs": [
    {
     "data": {
      "text/html": [
       "<div>\n",
       "<style>\n",
       "    .dataframe thead tr:only-child th {\n",
       "        text-align: right;\n",
       "    }\n",
       "\n",
       "    .dataframe thead th {\n",
       "        text-align: left;\n",
       "    }\n",
       "\n",
       "    .dataframe tbody tr th {\n",
       "        vertical-align: top;\n",
       "    }\n",
       "</style>\n",
       "<table border=\"1\" class=\"dataframe\">\n",
       "  <thead>\n",
       "    <tr style=\"text-align: right;\">\n",
       "      <th></th>\n",
       "      <th>Unnamed: 0</th>\n",
       "      <th>access_time</th>\n",
       "      <th>comments</th>\n",
       "      <th>is_vid</th>\n",
       "      <th>num_likes</th>\n",
       "      <th>post_time</th>\n",
       "      <th>poster</th>\n",
       "      <th>url</th>\n",
       "      <th>view_count</th>\n",
       "    </tr>\n",
       "  </thead>\n",
       "  <tbody>\n",
       "    <tr>\n",
       "      <th>0</th>\n",
       "      <td>0</td>\n",
       "      <td>2018-02-12 19:07:39.876897</td>\n",
       "      <td>I’m obsessed with this cat! Someone please com...</td>\n",
       "      <td>False</td>\n",
       "      <td>62</td>\n",
       "      <td>2018-02-11T01:01:51.000Z</td>\n",
       "      <td>kirstin.n.critters</td>\n",
       "      <td>https://www.instagram.com/p/BfCYesLjWLK/?tagge...</td>\n",
       "      <td>0</td>\n",
       "    </tr>\n",
       "    <tr>\n",
       "      <th>1</th>\n",
       "      <td>1</td>\n",
       "      <td>2018-02-12 19:07:39.876897</td>\n",
       "      <td>.\\n.\\n.\\n.\\n#foster #adoptdontshop #rescued #a...</td>\n",
       "      <td>False</td>\n",
       "      <td>62</td>\n",
       "      <td>2018-02-11T01:01:51.000Z</td>\n",
       "      <td>kirstin.n.critters</td>\n",
       "      <td>https://www.instagram.com/p/BfCYesLjWLK/?tagge...</td>\n",
       "      <td>0</td>\n",
       "    </tr>\n",
       "    <tr>\n",
       "      <th>2</th>\n",
       "      <td>2</td>\n",
       "      <td>2018-02-12 19:07:39.876897</td>\n",
       "      <td>Hiii you 💥! Peek my profile ASAP.</td>\n",
       "      <td>False</td>\n",
       "      <td>62</td>\n",
       "      <td>2018-02-11T01:01:51.000Z</td>\n",
       "      <td>kirstin.n.critters</td>\n",
       "      <td>https://www.instagram.com/p/BfCYesLjWLK/?tagge...</td>\n",
       "      <td>0</td>\n",
       "    </tr>\n",
       "    <tr>\n",
       "      <th>3</th>\n",
       "      <td>3</td>\n",
       "      <td>2018-02-12 19:07:39.876897</td>\n",
       "      <td>ADOPTED!!!</td>\n",
       "      <td>False</td>\n",
       "      <td>62</td>\n",
       "      <td>2018-02-11T01:01:51.000Z</td>\n",
       "      <td>kirstin.n.critters</td>\n",
       "      <td>https://www.instagram.com/p/BfCYesLjWLK/?tagge...</td>\n",
       "      <td>0</td>\n",
       "    </tr>\n",
       "    <tr>\n",
       "      <th>4</th>\n",
       "      <td>0</td>\n",
       "      <td>2018-02-12 19:07:45.544762</td>\n",
       "      <td>Next to the couch, part way under the table......</td>\n",
       "      <td>False</td>\n",
       "      <td>29</td>\n",
       "      <td>2018-02-11T00:27:03.000Z</td>\n",
       "      <td>little_benny_d</td>\n",
       "      <td>https://www.instagram.com/p/BfCUf13g2xQ/?tagge...</td>\n",
       "      <td>0</td>\n",
       "    </tr>\n",
       "    <tr>\n",
       "      <th>5</th>\n",
       "      <td>0</td>\n",
       "      <td>2018-02-12 19:07:51.256280</td>\n",
       "      <td>@Regranned from @pitties3 - ‼️ALMOST #6MONTHS ...</td>\n",
       "      <td>False</td>\n",
       "      <td>19</td>\n",
       "      <td>2018-02-11T00:20:58.000Z</td>\n",
       "      <td>therry_b</td>\n",
       "      <td>https://www.instagram.com/p/BfCTzNaFW7y/?tagge...</td>\n",
       "      <td>0</td>\n",
       "    </tr>\n",
       "    <tr>\n",
       "      <th>6</th>\n",
       "      <td>0</td>\n",
       "      <td>2018-02-12 19:07:57.118140</td>\n",
       "      <td>Jackson found his forever family today and he ...</td>\n",
       "      <td>False</td>\n",
       "      <td>92</td>\n",
       "      <td>2018-02-11T00:17:40.000Z</td>\n",
       "      <td>savingonelife</td>\n",
       "      <td>https://www.instagram.com/p/BfCTbDSHs9E/?tagge...</td>\n",
       "      <td>0</td>\n",
       "    </tr>\n",
       "    <tr>\n",
       "      <th>7</th>\n",
       "      <td>1</td>\n",
       "      <td>2018-02-12 19:07:57.118140</td>\n",
       "      <td>Nice and super beautiful !! Please follow me @...</td>\n",
       "      <td>False</td>\n",
       "      <td>92</td>\n",
       "      <td>2018-02-11T00:17:40.000Z</td>\n",
       "      <td>savingonelife</td>\n",
       "      <td>https://www.instagram.com/p/BfCTbDSHs9E/?tagge...</td>\n",
       "      <td>0</td>\n",
       "    </tr>\n",
       "    <tr>\n",
       "      <th>8</th>\n",
       "      <td>0</td>\n",
       "      <td>2018-02-12 19:08:02.886831</td>\n",
       "      <td>Madeline and Matilda found their furever home ...</td>\n",
       "      <td>False</td>\n",
       "      <td>67</td>\n",
       "      <td>2018-02-10T23:28:55.000Z</td>\n",
       "      <td>savingonelife</td>\n",
       "      <td>https://www.instagram.com/p/BfCN2C6nr2W/?tagge...</td>\n",
       "      <td>0</td>\n",
       "    </tr>\n",
       "    <tr>\n",
       "      <th>9</th>\n",
       "      <td>0</td>\n",
       "      <td>2018-02-12 19:08:08.526687</td>\n",
       "      <td>#Repost @rita_earl_blackwell with @get_repost\\...</td>\n",
       "      <td>False</td>\n",
       "      <td>12</td>\n",
       "      <td>2018-02-10T23:17:40.000Z</td>\n",
       "      <td>rutholaf</td>\n",
       "      <td>https://www.instagram.com/p/BfCMjsAHsBY/?tagge...</td>\n",
       "      <td>0</td>\n",
       "    </tr>\n",
       "    <tr>\n",
       "      <th>10</th>\n",
       "      <td>0</td>\n",
       "      <td>2018-02-12 19:08:14.646178</td>\n",
       "      <td>This is why we are so thankful for our foster ...</td>\n",
       "      <td>False</td>\n",
       "      <td>148</td>\n",
       "      <td>2018-02-10T23:16:23.000Z</td>\n",
       "      <td>savingonelife</td>\n",
       "      <td>https://www.instagram.com/p/BfCMaRYH4Ol/?tagge...</td>\n",
       "      <td>0</td>\n",
       "    </tr>\n",
       "    <tr>\n",
       "      <th>11</th>\n",
       "      <td>1</td>\n",
       "      <td>2018-02-12 19:08:14.646178</td>\n",
       "      <td>So wonderful!!! What a beautiful mom and litte...</td>\n",
       "      <td>False</td>\n",
       "      <td>148</td>\n",
       "      <td>2018-02-10T23:16:23.000Z</td>\n",
       "      <td>savingonelife</td>\n",
       "      <td>https://www.instagram.com/p/BfCMaRYH4Ol/?tagge...</td>\n",
       "      <td>0</td>\n",
       "    </tr>\n",
       "    <tr>\n",
       "      <th>12</th>\n",
       "      <td>2</td>\n",
       "      <td>2018-02-12 19:08:14.646178</td>\n",
       "      <td>Thank you!</td>\n",
       "      <td>False</td>\n",
       "      <td>148</td>\n",
       "      <td>2018-02-10T23:16:23.000Z</td>\n",
       "      <td>savingonelife</td>\n",
       "      <td>https://www.instagram.com/p/BfCMaRYH4Ol/?tagge...</td>\n",
       "      <td>0</td>\n",
       "    </tr>\n",
       "    <tr>\n",
       "      <th>13</th>\n",
       "      <td>3</td>\n",
       "      <td>2018-02-12 19:08:14.646178</td>\n",
       "      <td>LOVE!!!!! 😍😍</td>\n",
       "      <td>False</td>\n",
       "      <td>148</td>\n",
       "      <td>2018-02-10T23:16:23.000Z</td>\n",
       "      <td>savingonelife</td>\n",
       "      <td>https://www.instagram.com/p/BfCMaRYH4Ol/?tagge...</td>\n",
       "      <td>0</td>\n",
       "    </tr>\n",
       "    <tr>\n",
       "      <th>14</th>\n",
       "      <td>4</td>\n",
       "      <td>2018-02-12 19:08:14.646178</td>\n",
       "      <td>❤❤❤❤❤❤❤❤</td>\n",
       "      <td>False</td>\n",
       "      <td>148</td>\n",
       "      <td>2018-02-10T23:16:23.000Z</td>\n",
       "      <td>savingonelife</td>\n",
       "      <td>https://www.instagram.com/p/BfCMaRYH4Ol/?tagge...</td>\n",
       "      <td>0</td>\n",
       "    </tr>\n",
       "    <tr>\n",
       "      <th>15</th>\n",
       "      <td>5</td>\n",
       "      <td>2018-02-12 19:08:14.646178</td>\n",
       "      <td>Awwwww so sweet</td>\n",
       "      <td>False</td>\n",
       "      <td>148</td>\n",
       "      <td>2018-02-10T23:16:23.000Z</td>\n",
       "      <td>savingonelife</td>\n",
       "      <td>https://www.instagram.com/p/BfCMaRYH4Ol/?tagge...</td>\n",
       "      <td>0</td>\n",
       "    </tr>\n",
       "    <tr>\n",
       "      <th>16</th>\n",
       "      <td>6</td>\n",
       "      <td>2018-02-12 19:08:14.646178</td>\n",
       "      <td>💕💕💕💕💕</td>\n",
       "      <td>False</td>\n",
       "      <td>148</td>\n",
       "      <td>2018-02-10T23:16:23.000Z</td>\n",
       "      <td>savingonelife</td>\n",
       "      <td>https://www.instagram.com/p/BfCMaRYH4Ol/?tagge...</td>\n",
       "      <td>0</td>\n",
       "    </tr>\n",
       "    <tr>\n",
       "      <th>17</th>\n",
       "      <td>0</td>\n",
       "      <td>2018-02-12 19:08:20.668642</td>\n",
       "      <td>#Repost @argyle.earl (@get_repost)\\n・・・\\nWhat ...</td>\n",
       "      <td>False</td>\n",
       "      <td>42</td>\n",
       "      <td>2018-02-10T22:10:54.000Z</td>\n",
       "      <td>trixieskitchentoronto</td>\n",
       "      <td>https://www.instagram.com/p/BfCE6j6A1CC/?tagge...</td>\n",
       "      <td>0</td>\n",
       "    </tr>\n",
       "    <tr>\n",
       "      <th>18</th>\n",
       "      <td>1</td>\n",
       "      <td>2018-02-12 19:08:20.668642</td>\n",
       "      <td>Hey, that’s us! and @tilleydoestricks 💚 thanks...</td>\n",
       "      <td>False</td>\n",
       "      <td>42</td>\n",
       "      <td>2018-02-10T22:10:54.000Z</td>\n",
       "      <td>trixieskitchentoronto</td>\n",
       "      <td>https://www.instagram.com/p/BfCE6j6A1CC/?tagge...</td>\n",
       "      <td>0</td>\n",
       "    </tr>\n",
       "    <tr>\n",
       "      <th>19</th>\n",
       "      <td>2</td>\n",
       "      <td>2018-02-12 19:08:20.668642</td>\n",
       "      <td>I got the antlers! 🦌💞</td>\n",
       "      <td>False</td>\n",
       "      <td>42</td>\n",
       "      <td>2018-02-10T22:10:54.000Z</td>\n",
       "      <td>trixieskitchentoronto</td>\n",
       "      <td>https://www.instagram.com/p/BfCE6j6A1CC/?tagge...</td>\n",
       "      <td>0</td>\n",
       "    </tr>\n",
       "    <tr>\n",
       "      <th>20</th>\n",
       "      <td>0</td>\n",
       "      <td>2018-02-12 19:08:26.625765</td>\n",
       "      <td>@rescuesneedyou 🚨Red Alert VERY URGENT- AT RIS...</td>\n",
       "      <td>False</td>\n",
       "      <td>30</td>\n",
       "      <td>2018-02-10T22:10:41.000Z</td>\n",
       "      <td>hosa2000</td>\n",
       "      <td>https://www.instagram.com/p/BfCE5D9hvLx/?tagge...</td>\n",
       "      <td>0</td>\n",
       "    </tr>\n",
       "    <tr>\n",
       "      <th>21</th>\n",
       "      <td>1</td>\n",
       "      <td>2018-02-12 19:08:26.625765</td>\n",
       "      <td>🙏🏻Shared🙏🏻</td>\n",
       "      <td>False</td>\n",
       "      <td>30</td>\n",
       "      <td>2018-02-10T22:10:41.000Z</td>\n",
       "      <td>hosa2000</td>\n",
       "      <td>https://www.instagram.com/p/BfCE5D9hvLx/?tagge...</td>\n",
       "      <td>0</td>\n",
       "    </tr>\n",
       "    <tr>\n",
       "      <th>22</th>\n",
       "      <td>2</td>\n",
       "      <td>2018-02-12 19:08:26.625765</td>\n",
       "      <td>@wagsandwalks @australiancattle_angels @apurpo...</td>\n",
       "      <td>False</td>\n",
       "      <td>30</td>\n",
       "      <td>2018-02-10T22:10:41.000Z</td>\n",
       "      <td>hosa2000</td>\n",
       "      <td>https://www.instagram.com/p/BfCE5D9hvLx/?tagge...</td>\n",
       "      <td>0</td>\n",
       "    </tr>\n",
       "    <tr>\n",
       "      <th>23</th>\n",
       "      <td>3</td>\n",
       "      <td>2018-02-12 19:08:26.625765</td>\n",
       "      <td>😢🙏</td>\n",
       "      <td>False</td>\n",
       "      <td>30</td>\n",
       "      <td>2018-02-10T22:10:41.000Z</td>\n",
       "      <td>hosa2000</td>\n",
       "      <td>https://www.instagram.com/p/BfCE5D9hvLx/?tagge...</td>\n",
       "      <td>0</td>\n",
       "    </tr>\n",
       "    <tr>\n",
       "      <th>24</th>\n",
       "      <td>0</td>\n",
       "      <td>2018-02-12 19:08:32.645560</td>\n",
       "      <td>#Repost @northcentralshelter\\n・・・\\n‼️SOS - at ...</td>\n",
       "      <td>False</td>\n",
       "      <td>50</td>\n",
       "      <td>2018-02-10T21:59:29.000Z</td>\n",
       "      <td>paradeofpitbulls</td>\n",
       "      <td>https://www.instagram.com/p/BfCDnBYHp2O/?tagge...</td>\n",
       "      <td>0</td>\n",
       "    </tr>\n",
       "    <tr>\n",
       "      <th>25</th>\n",
       "      <td>1</td>\n",
       "      <td>2018-02-12 19:08:32.645560</td>\n",
       "      <td>Thank you!</td>\n",
       "      <td>False</td>\n",
       "      <td>50</td>\n",
       "      <td>2018-02-10T21:59:29.000Z</td>\n",
       "      <td>paradeofpitbulls</td>\n",
       "      <td>https://www.instagram.com/p/BfCDnBYHp2O/?tagge...</td>\n",
       "      <td>0</td>\n",
       "    </tr>\n",
       "  </tbody>\n",
       "</table>\n",
       "</div>"
      ],
      "text/plain": [
       "    Unnamed: 0                 access_time  \\\n",
       "0            0  2018-02-12 19:07:39.876897   \n",
       "1            1  2018-02-12 19:07:39.876897   \n",
       "2            2  2018-02-12 19:07:39.876897   \n",
       "3            3  2018-02-12 19:07:39.876897   \n",
       "4            0  2018-02-12 19:07:45.544762   \n",
       "5            0  2018-02-12 19:07:51.256280   \n",
       "6            0  2018-02-12 19:07:57.118140   \n",
       "7            1  2018-02-12 19:07:57.118140   \n",
       "8            0  2018-02-12 19:08:02.886831   \n",
       "9            0  2018-02-12 19:08:08.526687   \n",
       "10           0  2018-02-12 19:08:14.646178   \n",
       "11           1  2018-02-12 19:08:14.646178   \n",
       "12           2  2018-02-12 19:08:14.646178   \n",
       "13           3  2018-02-12 19:08:14.646178   \n",
       "14           4  2018-02-12 19:08:14.646178   \n",
       "15           5  2018-02-12 19:08:14.646178   \n",
       "16           6  2018-02-12 19:08:14.646178   \n",
       "17           0  2018-02-12 19:08:20.668642   \n",
       "18           1  2018-02-12 19:08:20.668642   \n",
       "19           2  2018-02-12 19:08:20.668642   \n",
       "20           0  2018-02-12 19:08:26.625765   \n",
       "21           1  2018-02-12 19:08:26.625765   \n",
       "22           2  2018-02-12 19:08:26.625765   \n",
       "23           3  2018-02-12 19:08:26.625765   \n",
       "24           0  2018-02-12 19:08:32.645560   \n",
       "25           1  2018-02-12 19:08:32.645560   \n",
       "\n",
       "                                             comments  is_vid  num_likes  \\\n",
       "0   I’m obsessed with this cat! Someone please com...   False         62   \n",
       "1   .\\n.\\n.\\n.\\n#foster #adoptdontshop #rescued #a...   False         62   \n",
       "2                   Hiii you 💥! Peek my profile ASAP.   False         62   \n",
       "3                                          ADOPTED!!!   False         62   \n",
       "4   Next to the couch, part way under the table......   False         29   \n",
       "5   @Regranned from @pitties3 - ‼️ALMOST #6MONTHS ...   False         19   \n",
       "6   Jackson found his forever family today and he ...   False         92   \n",
       "7   Nice and super beautiful !! Please follow me @...   False         92   \n",
       "8   Madeline and Matilda found their furever home ...   False         67   \n",
       "9   #Repost @rita_earl_blackwell with @get_repost\\...   False         12   \n",
       "10  This is why we are so thankful for our foster ...   False        148   \n",
       "11  So wonderful!!! What a beautiful mom and litte...   False        148   \n",
       "12                                         Thank you!   False        148   \n",
       "13                                       LOVE!!!!! 😍😍   False        148   \n",
       "14                                           ❤❤❤❤❤❤❤❤   False        148   \n",
       "15                                    Awwwww so sweet   False        148   \n",
       "16                                              💕💕💕💕💕   False        148   \n",
       "17  #Repost @argyle.earl (@get_repost)\\n・・・\\nWhat ...   False         42   \n",
       "18  Hey, that’s us! and @tilleydoestricks 💚 thanks...   False         42   \n",
       "19                              I got the antlers! 🦌💞   False         42   \n",
       "20  @rescuesneedyou 🚨Red Alert VERY URGENT- AT RIS...   False         30   \n",
       "21                                         🙏🏻Shared🙏🏻   False         30   \n",
       "22  @wagsandwalks @australiancattle_angels @apurpo...   False         30   \n",
       "23                                                 😢🙏   False         30   \n",
       "24  #Repost @northcentralshelter\\n・・・\\n‼️SOS - at ...   False         50   \n",
       "25                                         Thank you!   False         50   \n",
       "\n",
       "                   post_time                 poster  \\\n",
       "0   2018-02-11T01:01:51.000Z     kirstin.n.critters   \n",
       "1   2018-02-11T01:01:51.000Z     kirstin.n.critters   \n",
       "2   2018-02-11T01:01:51.000Z     kirstin.n.critters   \n",
       "3   2018-02-11T01:01:51.000Z     kirstin.n.critters   \n",
       "4   2018-02-11T00:27:03.000Z         little_benny_d   \n",
       "5   2018-02-11T00:20:58.000Z               therry_b   \n",
       "6   2018-02-11T00:17:40.000Z          savingonelife   \n",
       "7   2018-02-11T00:17:40.000Z          savingonelife   \n",
       "8   2018-02-10T23:28:55.000Z          savingonelife   \n",
       "9   2018-02-10T23:17:40.000Z               rutholaf   \n",
       "10  2018-02-10T23:16:23.000Z          savingonelife   \n",
       "11  2018-02-10T23:16:23.000Z          savingonelife   \n",
       "12  2018-02-10T23:16:23.000Z          savingonelife   \n",
       "13  2018-02-10T23:16:23.000Z          savingonelife   \n",
       "14  2018-02-10T23:16:23.000Z          savingonelife   \n",
       "15  2018-02-10T23:16:23.000Z          savingonelife   \n",
       "16  2018-02-10T23:16:23.000Z          savingonelife   \n",
       "17  2018-02-10T22:10:54.000Z  trixieskitchentoronto   \n",
       "18  2018-02-10T22:10:54.000Z  trixieskitchentoronto   \n",
       "19  2018-02-10T22:10:54.000Z  trixieskitchentoronto   \n",
       "20  2018-02-10T22:10:41.000Z               hosa2000   \n",
       "21  2018-02-10T22:10:41.000Z               hosa2000   \n",
       "22  2018-02-10T22:10:41.000Z               hosa2000   \n",
       "23  2018-02-10T22:10:41.000Z               hosa2000   \n",
       "24  2018-02-10T21:59:29.000Z       paradeofpitbulls   \n",
       "25  2018-02-10T21:59:29.000Z       paradeofpitbulls   \n",
       "\n",
       "                                                  url  view_count  \n",
       "0   https://www.instagram.com/p/BfCYesLjWLK/?tagge...           0  \n",
       "1   https://www.instagram.com/p/BfCYesLjWLK/?tagge...           0  \n",
       "2   https://www.instagram.com/p/BfCYesLjWLK/?tagge...           0  \n",
       "3   https://www.instagram.com/p/BfCYesLjWLK/?tagge...           0  \n",
       "4   https://www.instagram.com/p/BfCUf13g2xQ/?tagge...           0  \n",
       "5   https://www.instagram.com/p/BfCTzNaFW7y/?tagge...           0  \n",
       "6   https://www.instagram.com/p/BfCTbDSHs9E/?tagge...           0  \n",
       "7   https://www.instagram.com/p/BfCTbDSHs9E/?tagge...           0  \n",
       "8   https://www.instagram.com/p/BfCN2C6nr2W/?tagge...           0  \n",
       "9   https://www.instagram.com/p/BfCMjsAHsBY/?tagge...           0  \n",
       "10  https://www.instagram.com/p/BfCMaRYH4Ol/?tagge...           0  \n",
       "11  https://www.instagram.com/p/BfCMaRYH4Ol/?tagge...           0  \n",
       "12  https://www.instagram.com/p/BfCMaRYH4Ol/?tagge...           0  \n",
       "13  https://www.instagram.com/p/BfCMaRYH4Ol/?tagge...           0  \n",
       "14  https://www.instagram.com/p/BfCMaRYH4Ol/?tagge...           0  \n",
       "15  https://www.instagram.com/p/BfCMaRYH4Ol/?tagge...           0  \n",
       "16  https://www.instagram.com/p/BfCMaRYH4Ol/?tagge...           0  \n",
       "17  https://www.instagram.com/p/BfCE6j6A1CC/?tagge...           0  \n",
       "18  https://www.instagram.com/p/BfCE6j6A1CC/?tagge...           0  \n",
       "19  https://www.instagram.com/p/BfCE6j6A1CC/?tagge...           0  \n",
       "20  https://www.instagram.com/p/BfCE5D9hvLx/?tagge...           0  \n",
       "21  https://www.instagram.com/p/BfCE5D9hvLx/?tagge...           0  \n",
       "22  https://www.instagram.com/p/BfCE5D9hvLx/?tagge...           0  \n",
       "23  https://www.instagram.com/p/BfCE5D9hvLx/?tagge...           0  \n",
       "24  https://www.instagram.com/p/BfCDnBYHp2O/?tagge...           0  \n",
       "25  https://www.instagram.com/p/BfCDnBYHp2O/?tagge...           0  "
      ]
     },
     "execution_count": 20,
     "metadata": {},
     "output_type": "execute_result"
    }
   ],
   "source": [
    "look"
   ]
  },
  {
   "cell_type": "code",
   "execution_count": 15,
   "metadata": {},
   "outputs": [
    {
     "name": "stdout",
     "output_type": "stream",
     "text": [
      "https://www.instagram.com/p/BenpJ_jhNOM/?tagged=adoptlove 711\n",
      "https://www.instagram.com/p/BeVpUqoACNO/?tagged=adoptlove 1075\n",
      "https://www.instagram.com/p/Bdh11VvDNOQ/?tagged=adoptlove 2129\n",
      "https://www.instagram.com/p/BdSe_NOg4mX/?tagged=adoptlove 2440\n",
      "https://www.instagram.com/p/BcTQdPFheNO/?tagged=adoptlove 3921\n"
     ]
    }
   ],
   "source": [
    "for i in new_adopt_list:\n",
    "    if 'NO' in i:\n",
    "        print(i, new_adopt_list.index(i))"
   ]
  },
  {
   "cell_type": "code",
   "execution_count": 14,
   "metadata": {},
   "outputs": [
    {
     "data": {
      "text/plain": [
       "'NO'"
      ]
     },
     "execution_count": 14,
     "metadata": {},
     "output_type": "execute_result"
    }
   ],
   "source": [
    "new_adopt_list.pop(new_adopt_list.index(post))\n",
    "\n"
   ]
  },
  {
   "cell_type": "code",
   "execution_count": null,
   "metadata": {
    "collapsed": true
   },
   "outputs": [],
   "source": []
  }
 ],
 "metadata": {
  "kernelspec": {
   "display_name": "Python 3",
   "language": "python",
   "name": "python3"
  },
  "language_info": {
   "codemirror_mode": {
    "name": "ipython",
    "version": 3
   },
   "file_extension": ".py",
   "mimetype": "text/x-python",
   "name": "python",
   "nbconvert_exporter": "python",
   "pygments_lexer": "ipython3",
   "version": "3.6.3"
  }
 },
 "nbformat": 4,
 "nbformat_minor": 2
}
