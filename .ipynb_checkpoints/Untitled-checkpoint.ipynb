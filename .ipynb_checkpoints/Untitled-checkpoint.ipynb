{
 "cells": [
  {
   "cell_type": "code",
   "execution_count": null,
   "metadata": {
    "collapsed": true
   },
   "outputs": [],
   "source": [
    "import pandas as pd\n",
    "import re"
   ]
  },
  {
   "cell_type": "code",
   "execution_count": null,
   "metadata": {},
   "outputs": [],
   "source": [
    "dic = {'key': [1,2,3],\n",
    "        'count': [4,5,6],\n",
    "        'comment':[['a','b'],['c','d'],['e','f']]}\n",
    "\n",
    "print(dic)"
   ]
  },
  {
   "cell_type": "code",
   "execution_count": null,
   "metadata": {
    "collapsed": true
   },
   "outputs": [],
   "source": [
    "dic['key']= 1"
   ]
  },
  {
   "cell_type": "code",
   "execution_count": null,
   "metadata": {},
   "outputs": [],
   "source": [
    "dic"
   ]
  },
  {
   "cell_type": "code",
   "execution_count": null,
   "metadata": {
    "collapsed": true
   },
   "outputs": [],
   "source": [
    "x = pd.DataFrame.from_dict(dic)"
   ]
  },
  {
   "cell_type": "code",
   "execution_count": null,
   "metadata": {},
   "outputs": [],
   "source": [
    "x"
   ]
  },
  {
   "cell_type": "code",
   "execution_count": null,
   "metadata": {
    "collapsed": true
   },
   "outputs": [],
   "source": [
    "y = 'this'"
   ]
  },
  {
   "cell_type": "code",
   "execution_count": null,
   "metadata": {
    "collapsed": true
   },
   "outputs": [],
   "source": [
    "x.to_csv('{}.csv'.format(y))"
   ]
  },
  {
   "cell_type": "code",
   "execution_count": null,
   "metadata": {
    "collapsed": true
   },
   "outputs": [],
   "source": [
    "post_id = link_to_post  # Todo: extract ID from link?\n",
    "\n",
    "# For videos, this grabs VIEWS.  For photos, this grabs LIKES.\n",
    "# metadata[\"views\"] = popup.find_element_by_xpath(\"//div/section/div/span/span\").get_attribute(\"innerHTML\")\n",
    "\n",
    "comments = []\n",
    "for comment in popup.find_elements_by_xpath(\"//div/div/ul/li/span\"):\n",
    "    comments.append(comment.get_attribute(\"text\"))\n",
    "posts[post_id] = comments\n",
    "temp = pd.DataFrame.from_dict(posts)\n",
    "temp.to_csv('{}.csv'.format(count))\n",
    "count +=1"
   ]
  },
  {
   "cell_type": "code",
   "execution_count": 17,
   "metadata": {
    "collapsed": true
   },
   "outputs": [],
   "source": [
    "data = pd.read_csv('0.csv')"
   ]
  },
  {
   "cell_type": "code",
   "execution_count": 19,
   "metadata": {},
   "outputs": [
    {
     "name": "stdout",
     "output_type": "stream",
     "text": [
      "<class 'pandas.core.frame.DataFrame'>\n",
      "RangeIndex: 21 entries, 0 to 20\n",
      "Data columns (total 8 columns):\n",
      "Unnamed: 0     21 non-null int64\n",
      "access_time    21 non-null object\n",
      "comments       21 non-null object\n",
      "is_vid         21 non-null bool\n",
      "num_likes      21 non-null object\n",
      "post_time      21 non-null object\n",
      "url            21 non-null object\n",
      "view_count     21 non-null object\n",
      "dtypes: bool(1), int64(1), object(6)\n",
      "memory usage: 1.2+ KB\n"
     ]
    }
   ],
   "source": [
    "data.info()"
   ]
  },
  {
   "cell_type": "code",
   "execution_count": null,
   "metadata": {},
   "outputs": [],
   "source": [
    "data['comments'].iloc[0:9]"
   ]
  },
  {
   "cell_type": "code",
   "execution_count": null,
   "metadata": {},
   "outputs": [],
   "source": [
    "data.info()"
   ]
  },
  {
   "cell_type": "code",
   "execution_count": null,
   "metadata": {
    "collapsed": true
   },
   "outputs": [],
   "source": [
    "data2 = pd.read_csv('1.csv')"
   ]
  },
  {
   "cell_type": "code",
   "execution_count": null,
   "metadata": {},
   "outputs": [],
   "source": [
    "data2"
   ]
  },
  {
   "cell_type": "code",
   "execution_count": null,
   "metadata": {
    "collapsed": true
   },
   "outputs": [],
   "source": [
    "l = [1,2,3]"
   ]
  },
  {
   "cell_type": "code",
   "execution_count": null,
   "metadata": {},
   "outputs": [],
   "source": [
    "list(l)"
   ]
  },
  {
   "cell_type": "code",
   "execution_count": null,
   "metadata": {},
   "outputs": [],
   "source": [
    "print(list(l))"
   ]
  },
  {
   "cell_type": "code",
   "execution_count": null,
   "metadata": {
    "collapsed": true
   },
   "outputs": [],
   "source": [
    "l = [l]"
   ]
  },
  {
   "cell_type": "code",
   "execution_count": null,
   "metadata": {},
   "outputs": [],
   "source": [
    "l"
   ]
  },
  {
   "cell_type": "code",
   "execution_count": null,
   "metadata": {
    "collapsed": true
   },
   "outputs": [],
   "source": [
    "import pickle"
   ]
  },
  {
   "cell_type": "code",
   "execution_count": null,
   "metadata": {
    "collapsed": true
   },
   "outputs": [],
   "source": [
    "ml = ['this is a long list', 'this is not a very long list']"
   ]
  },
  {
   "cell_type": "code",
   "execution_count": null,
   "metadata": {
    "collapsed": true
   },
   "outputs": [],
   "source": [
    "with open('parrot.pkl', 'wb') as f:\n",
    "    pickle.dump(adopt_list, f)"
   ]
  },
  {
   "cell_type": "code",
   "execution_count": null,
   "metadata": {},
   "outputs": [],
   "source": [
    "del ml\n"
   ]
  },
  {
   "cell_type": "code",
   "execution_count": null,
   "metadata": {
    "collapsed": true
   },
   "outputs": [],
   "source": [
    "with open('parrot.pkl', 'rb') as f:\n",
    "    mynewlist = pickle.load(f)"
   ]
  },
  {
   "cell_type": "code",
   "execution_count": null,
   "metadata": {},
   "outputs": [],
   "source": [
    "print(len(mynewlist))\n",
    "adopt_list = set(mynewlist)\n",
    "print(mynewlist)"
   ]
  },
  {
   "cell_type": "code",
   "execution_count": null,
   "metadata": {},
   "outputs": [],
   "source": [
    "for i in set(mynewlist):\n",
    "    print(i)\n"
   ]
  },
  {
   "cell_type": "code",
   "execution_count": null,
   "metadata": {},
   "outputs": [],
   "source": [
    "len(mynewlist)-len(set(mynewlist))"
   ]
  },
  {
   "cell_type": "code",
   "execution_count": null,
   "metadata": {
    "collapsed": true
   },
   "outputs": [],
   "source": [
    "mynewlist = list(mynewlist)"
   ]
  },
  {
   "cell_type": "code",
   "execution_count": null,
   "metadata": {
    "collapsed": true
   },
   "outputs": [],
   "source": [
    "series_list = pd.Series(mynewlist)"
   ]
  },
  {
   "cell_type": "code",
   "execution_count": null,
   "metadata": {},
   "outputs": [],
   "source": [
    "series_list.apply(lambda x: re.sub('\\?tagged=.*','',x))"
   ]
  },
  {
   "cell_type": "code",
   "execution_count": null,
   "metadata": {
    "collapsed": true
   },
   "outputs": [],
   "source": [
    "data = pd.read_csv('0.csv')"
   ]
  },
  {
   "cell_type": "code",
   "execution_count": null,
   "metadata": {},
   "outputs": [],
   "source": [
    "data"
   ]
  },
  {
   "cell_type": "code",
   "execution_count": null,
   "metadata": {},
   "outputs": [],
   "source": [
    "for i in data['comments'].values:\n",
    "    print(i)"
   ]
  },
  {
   "cell_type": "code",
   "execution_count": null,
   "metadata": {},
   "outputs": [],
   "source": [
    "print(data['comments'][0][0])"
   ]
  },
  {
   "cell_type": "code",
   "execution_count": null,
   "metadata": {
    "collapsed": true
   },
   "outputs": [],
   "source": []
  },
  {
   "cell_type": "code",
   "execution_count": null,
   "metadata": {
    "collapsed": true
   },
   "outputs": [],
   "source": []
  },
  {
   "cell_type": "code",
   "execution_count": null,
   "metadata": {
    "collapsed": true
   },
   "outputs": [],
   "source": []
  },
  {
   "cell_type": "code",
   "execution_count": null,
   "metadata": {
    "collapsed": true
   },
   "outputs": [],
   "source": []
  },
  {
   "cell_type": "code",
   "execution_count": 24,
   "metadata": {
    "collapsed": true
   },
   "outputs": [],
   "source": [
    "import time\n",
    "import datetime\n",
    "import random\n",
    "from selenium import webdriver\n",
    "from selenium.webdriver.common.by import By\n",
    "from selenium.webdriver.support.ui import WebDriverWait\n",
    "from selenium.common.exceptions import NoSuchElementException\n",
    "from selenium.webdriver.support import expected_conditions as EC\n",
    "from selenium.webdriver.common.keys import Keys\n",
    "from selenium.webdriver.support.ui import Select\n",
    "from selenium.webdriver.common.action_chains import ActionChains\n",
    "import requests, re, json ,pprint\n",
    "from bs4 import BeautifulSoup\n",
    "import pandas as pd\n",
    "from flask import Flask,render_template,request,make_response\n",
    "# from .InstaForm import InstaForm\n",
    "import re\n",
    "import timeit\n",
    "import pickle\n",
    "import numpy as np"
   ]
  },
  {
   "cell_type": "code",
   "execution_count": 25,
   "metadata": {
    "collapsed": true
   },
   "outputs": [],
   "source": [
    "driver = webdriver.Chrome('/usr/local/bin/chromedriver')\n",
    "driver.implicitly_wait(5)"
   ]
  },
  {
   "cell_type": "code",
   "execution_count": 26,
   "metadata": {},
   "outputs": [
    {
     "name": "stdout",
     "output_type": "stream",
     "text": [
      "47.04811070798314\n"
     ]
    }
   ],
   "source": [
    "start = timeit.default_timer()\n",
    "count = 0\n",
    "media = ['https://www.instagram.com/p/BfAeWPMn1AV/','https://www.instagram.com/p/Be8UzDrHHf-/','https://www.instagram.com/p/Be-8TL4Bo8q/',\n",
    "         'https://www.instagram.com/p/BeInCULnupR/','https://www.instagram.com/p/Be3ZojojBwL/']\n",
    "# listy = ['https://www.instagram.com/p/BfG7h_jnsTf/?tagged=adoptlove']\n",
    "posts = {}\n",
    "csv_count = 0\n",
    "\n",
    "for post in media:\n",
    "    commenters = []\n",
    "    comments = []\n",
    "    is_vid = False\n",
    "    num_likes = 0\n",
    "    view_count = 0\n",
    "    \n",
    "    driver.get(post)\n",
    "    \n",
    "    post_time = driver.find_element_by_xpath('//div/div/a/time').get_attribute('datetime')\n",
    "\n",
    "    try:\n",
    "        if 'views' in driver.find_element_by_xpath(\"//div/section/div/span\").get_attribute('innerHTML'):\n",
    "            is_vid = True\n",
    "            view_count = driver.find_element_by_xpath(\"//div/section/div/span/span\").get_attribute('innerHTML')\n",
    "        else:\n",
    "            num_likes = driver.find_element_by_xpath(\"//div/section/div/span/span\").get_attribute('innerHTML')\n",
    "    except:\n",
    "        x = driver.find_elements_by_xpath('//*[@id=\"react-root\"]/section/main/div/div/article/div/section/div/a')\n",
    "        low_user = 0\n",
    "        for i in x:\n",
    "            low_user +=1\n",
    "        num_likes = low_user\n",
    "        \n",
    "    if is_vid:\n",
    "        try:\n",
    "\n",
    "            view_likes = driver.find_element_by_xpath('//*[@id=\"react-root\"]/section/main/div/div/article/div/section/div/span') \n",
    "            view_likes.click()                        \n",
    "            num_likes = driver.find_element_by_xpath('//*[@id=\"react-root\"]/section/main/div/div/article/div/section/div/div/div/span')\n",
    "            view_likes.click()\n",
    "            num_likes = num_likes.text\n",
    "        except NoSuchElementException:\n",
    "            pass\n",
    "            print('no such')\n",
    "     \n",
    "    while True:         \n",
    "        try:\n",
    "            load_more_comments = driver.find_element_by_xpath(\"//*[@id='react-root']/section/main/div/div/article/div/div/ul/li/a[text()[contains(.,' comments')]]\")\n",
    "    #             driver.execute_script(\"document.querySelector('react-root section main div div article div div ul li a[role=button]').scrollIntoView(true);\")\n",
    "            load_more_comments.click()\n",
    "            time.sleep(random.randint(1,5))\n",
    "        except:\n",
    "            break\n",
    "\n",
    "    for comment in driver.find_elements_by_xpath(\"//div/div/ul/li/span\"):\n",
    "    # print(comment.get_attribute('text'))\n",
    "        comments.append(comment.text)\n",
    "\n",
    "\n",
    "    for commenter in driver.find_elements_by_xpath('//div/div/ul/li/a'):\n",
    "        commenters.append(commenter.text)\n",
    "    \n",
    "    \n",
    "#     print(datetime.datetime.now())\n",
    "#     print(post_time)        \n",
    "#     print(view_count)\n",
    "#     print(num_likes)\n",
    "#     print(is_vid)\n",
    "#     print(comments)\n",
    "#     print(commenters)\n",
    "    \n",
    "    posts['url'] = post\n",
    "    posts['comments'] = comments\n",
    "#     posts['commenters'] = commenters\n",
    "    posts['post_time'] = post_time\n",
    "    posts['access_time'] = datetime.datetime.now()\n",
    "    posts['num_likes'] = num_likes\n",
    "    posts['is_vid'] = is_vid\n",
    "    posts['view_count'] = view_count\n",
    "    \n",
    "    temp = pd.DataFrame.from_dict(posts)\n",
    "    temp.to_csv('{}.csv'.format(csv_count))\n",
    "    csv_count+=1\n",
    "    \n",
    "stop = timeit.default_timer()\n",
    "\n",
    "print(stop - start)"
   ]
  },
  {
   "cell_type": "code",
   "execution_count": null,
   "metadata": {},
   "outputs": [],
   "source": [
    "listy = ['https://www.instagram.com/p/Be9JmG-nzea/']\n",
    "commenters = []\n",
    "comments = []\n",
    "for i in listy:\n",
    "    driver.get(i)\n",
    "    while True:\n",
    "        try:\n",
    "            load_more_comments = driver.find_element_by_xpath(\"//*[@id='react-root']/section/main/div/div/article/div/div/ul/li/a[text()[contains(.,' comments')]]\")\n",
    "    #             driver.execute_script(\"document.querySelector('react-root section main div div article div div ul li a[role=button]').scrollIntoView(true);\")\n",
    "            load_more_comments.click()\n",
    "            time.sleep(random.randint(1,5))\n",
    "        except:\n",
    "            break\n",
    "\n",
    "\n",
    "\n",
    "    for comment in driver.find_elements_by_xpath(\"//div/div/ul/li/span\"):\n",
    "    # print(comment.get_attribute('text'))\n",
    "        comments.append(comment.text)\n",
    "\n",
    "\n",
    "    for commenter in driver.find_elements_by_xpath('//div/div/ul/li/a'):\n",
    "        commenters.append(commenter.text)\n",
    "            "
   ]
  },
  {
   "cell_type": "code",
   "execution_count": null,
   "metadata": {},
   "outputs": [],
   "source": [
    "print(comments)\n",
    "print(commenters)"
   ]
  },
  {
   "cell_type": "code",
   "execution_count": null,
   "metadata": {
    "collapsed": true
   },
   "outputs": [],
   "source": [
    "x = zip(comments,commenters)"
   ]
  },
  {
   "cell_type": "code",
   "execution_count": null,
   "metadata": {},
   "outputs": [],
   "source": [
    "print(len(comments),print(len(commenters)))"
   ]
  },
  {
   "cell_type": "code",
   "execution_count": null,
   "metadata": {},
   "outputs": [],
   "source": [
    "for a,b in x:\n",
    "    print(b,\":\",a)"
   ]
  },
  {
   "cell_type": "code",
   "execution_count": null,
   "metadata": {},
   "outputs": [],
   "source": [
    "driver.get('https://www.instagram.com/p/BelrvGxALy2/?tagged=adoptlove')\n",
    "x = driver.find_elements_by_xpath('//*[@id=\"react-root\"]/section/main/div/div/article/div/section/div/a')\n",
    "count = 0\n",
    "for i in x:\n",
    "    count+=1\n",
    "\n",
    "print(count)"
   ]
  },
  {
   "cell_type": "code",
   "execution_count": 3,
   "metadata": {},
   "outputs": [
    {
     "name": "stdout",
     "output_type": "stream",
     "text": [
      "4718\n",
      "10048\n"
     ]
    }
   ],
   "source": [
    "with open('adopt_love_1.pkl', 'rb') as f:\n",
    "    new_new = pickle.load(f)\n",
    "    \n",
    "print(len(set(new_new)))\n",
    "print(len(new_new))"
   ]
  },
  {
   "cell_type": "code",
   "execution_count": null,
   "metadata": {},
   "outputs": [],
   "source": [
    "new_new = list(set(new_new))"
   ]
  },
  {
   "cell_type": "code",
   "execution_count": 4,
   "metadata": {
    "collapsed": true
   },
   "outputs": [],
   "source": [
    "new_adopt_list = []\n",
    "for i in new_new:\n",
    "    if i not in new_adopt_list:\n",
    "        new_adopt_list.append(i)"
   ]
  },
  {
   "cell_type": "code",
   "execution_count": null,
   "metadata": {
    "collapsed": true
   },
   "outputs": [],
   "source": []
  }
 ],
 "metadata": {
  "kernelspec": {
   "display_name": "Python 3",
   "language": "python",
   "name": "python3"
  },
  "language_info": {
   "codemirror_mode": {
    "name": "ipython",
    "version": 3
   },
   "file_extension": ".py",
   "mimetype": "text/x-python",
   "name": "python",
   "nbconvert_exporter": "python",
   "pygments_lexer": "ipython3",
   "version": "3.6.3"
  }
 },
 "nbformat": 4,
 "nbformat_minor": 2
}
